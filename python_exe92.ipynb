{
  "nbformat": 4,
  "nbformat_minor": 0,
  "metadata": {
    "colab": {
      "name": "python-exe92",
      "provenance": [],
      "authorship_tag": "ABX9TyNIivsDdPfWOkj/8qAGtgHs"
    },
    "kernelspec": {
      "name": "python3",
      "display_name": "Python 3"
    },
    "language_info": {
      "name": "python"
    }
  },
  "cells": [
    {
      "cell_type": "code",
      "execution_count": 33,
      "metadata": {
        "colab": {
          "base_uri": "https://localhost:8080/"
        },
        "id": "Q-ADmdLSxG8m",
        "outputId": "2f2f70bb-ef75-4fdc-8e73-874535e737c3"
      },
      "outputs": [
        {
          "output_type": "stream",
          "name": "stdout",
          "text": [
            "Nome: caio\n",
            "ano de nascimento: 1996\n",
            "carteira de trabalho [0 nao tem]: 1254\n",
            "ano de contrataçao: 2016\n",
            "salario mensal: 1480\n",
            "nome = caio\n",
            "idade = 26\n",
            "ctps = 1254\n",
            "contrataçao = 2016\n",
            "salario = 1480.0\n",
            "aposentadoria = 55\n"
          ]
        }
      ],
      "source": [
        "#Crie um app que leia nome, ano de nascimento e CTPS cadastre-o (com idade) \n",
        "#em um dict. Se por acaso a CTPS for diferente de ZERO, o dicionário receberá \n",
        "#também o ano de contratação e o salário. Calcule e acrescente, além da idade, \n",
        "#com quantos anos a pessoa vai se aposentar.\n",
        "\n",
        "from datetime import datetime\n",
        "pessoa = {}\n",
        "pessoa['nome'] = str(input('Nome: ')).strip()\n",
        "nascimento = int(input('ano de nascimento: '))\n",
        "pessoa['idade'] = datetime.now().year - nascimento\n",
        "pessoa['ctps'] = int(input('carteira de trabalho [0 nao tem]: '))\n",
        "if pessoa['ctps'] != 0:\n",
        "    pessoa['contrataçao'] = int(input('ano de contrataçao: '))\n",
        "    pessoa['salario'] = float(input('salario mensal: '))\n",
        "    pessoa['aposentadoria'] = (35 - (datetime.now().year - \n",
        "                                     pessoa['contrataçao']) + pessoa['idade'])\n",
        "for i, v in pessoa.items():\n",
        "    print(f'{i} = {v}')\n"
      ]
    }
  ]
}