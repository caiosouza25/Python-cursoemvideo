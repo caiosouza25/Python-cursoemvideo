{
  "nbformat": 4,
  "nbformat_minor": 0,
  "metadata": {
    "colab": {
      "name": "python-exe93",
      "provenance": [],
      "authorship_tag": "ABX9TyNS2/JkF8xLhbDwhNSaA9m2"
    },
    "kernelspec": {
      "name": "python3",
      "display_name": "Python 3"
    },
    "language_info": {
      "name": "python"
    }
  },
  "cells": [
    {
      "cell_type": "code",
      "execution_count": 17,
      "metadata": {
        "colab": {
          "base_uri": "https://localhost:8080/"
        },
        "id": "Zld48Y-J3buS",
        "outputId": "87b68f26-b279-4448-dd05-16629a39d40c"
      },
      "outputs": [
        {
          "output_type": "stream",
          "name": "stdout",
          "text": [
            "nome: caio\n",
            "quantas partidas vc jogou: 4\n",
            "quantos gols na 1° partida: 2\n",
            "quantos gols na 2° partida: 3\n",
            "quantos gols na 3° partida: 5\n",
            "quantos gols na 4° partida: 1\n",
            "=-=-=-=-=-=-=-=-=-=-=-=-=-=-=-\n",
            "caio jogou 4 partidas\n",
            "1° partida = 2 gols\n",
            "2° partida = 3 gols\n",
            "3° partida = 5 gols\n",
            "4° partida = 1 gols\n",
            "foi um total de 11 gols!\n"
          ]
        }
      ],
      "source": [
        "#Crie um app que gerencie o aproveitamento de um jogador de futebol. O app vai \n",
        "#ler o nome e quantas partidas ele jogou. Depois vai ler a quantidade de gols\n",
        "#feitos em cada partida. No final, tudo isso será guardado em um dicionário, \n",
        "#incluindo o total de gols feitos durante o campeonato.\n",
        "\n",
        "jogador = {}\n",
        "gols = []\n",
        "soma = 0\n",
        "jogador['nome'] = str(input('nome: '))\n",
        "partidas = int(input('quantas partidas vc jogou: '))\n",
        "for p in range(partidas):\n",
        "    g = int(input(f'quantos gols na {p + 1}° partida: '))\n",
        "    gols.append(g)\n",
        "    soma += g\n",
        "jogador['gols'] = gols\n",
        "jogador['total de gols'] = soma\n",
        "print('=-'* 15)\n",
        "print(f'{jogador[\"nome\"]} jogou {partidas} partidas')\n",
        "for j in range(partidas):\n",
        "    print(f'{j + 1}° partida = {gols[j]} gols')\n",
        "print(f'foi um total de {soma} gols!')"
      ]
    }
  ]
}