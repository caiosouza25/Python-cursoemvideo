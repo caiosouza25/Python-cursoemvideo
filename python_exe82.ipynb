{
  "nbformat": 4,
  "nbformat_minor": 0,
  "metadata": {
    "colab": {
      "name": "python-exe82",
      "provenance": [],
      "authorship_tag": "ABX9TyM1Dea18QrrsP+yS0lyt/Vh"
    },
    "kernelspec": {
      "name": "python3",
      "display_name": "Python 3"
    },
    "language_info": {
      "name": "python"
    }
  },
  "cells": [
    {
      "cell_type": "code",
      "execution_count": 4,
      "metadata": {
        "colab": {
          "base_uri": "https://localhost:8080/"
        },
        "id": "ruCQ3BvsTnTQ",
        "outputId": "7aed06ba-3155-4b96-f948-66402a90b5b0"
      },
      "outputs": [
        {
          "output_type": "stream",
          "name": "stdout",
          "text": [
            "digite um valor: 9\n",
            "deseja continuar[S/N]: s\n",
            "digite um valor: 5\n",
            "deseja continuar[S/N]: s\n",
            "digite um valor: 2\n",
            "deseja continuar[S/N]: s\n",
            "digite um valor: 8\n",
            "deseja continuar[S/N]: n\n",
            "todos os valores digitados: [9, 5, 2, 8]\n",
            "os impares sao [9, 5]\n",
            "os pares sao [2, 8]\n"
          ]
        }
      ],
      "source": [
        "#crie um programa que vai ler varios numeros e colocar em uma lista\n",
        "#crie 2 listas extras que receberao os valores pares e impares respectivamente\n",
        "#no final mostre as 3 listas geradas\n",
        "\n",
        "valores = []\n",
        "impar = []\n",
        "par = []\n",
        "while True:\n",
        "    n = int(input('digite um valor: '))\n",
        "    valores.append(n)\n",
        "    if n % 2 == 0:\n",
        "        par.append(n) \n",
        "    else:\n",
        "        impar.append(n)\n",
        "    cont = str(input('deseja continuar[S/N]: ')).strip().upper()[0]\n",
        "    if cont == 'N':\n",
        "        break\n",
        "print(f'todos os valores digitados: {valores}')\n",
        "print(f'os impares sao {impar}')\n",
        "print(f'os pares sao {par}')\n"
      ]
    }
  ]
}