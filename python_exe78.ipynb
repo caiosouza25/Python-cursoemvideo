{
  "cells": [
    {
      "cell_type": "code",
      "source": [
        "#faça um programa que leia 5 valores numericos e guarde-os em uma lista\n",
        "#mostre qual foi o maior e o menor valor digitado e suas posiçoes na lista\n",
        "\n",
        "valores = []\n",
        "for cont in range(0, 5):\n",
        "    valores.append(int(input(f'digite um valor para a posiçao {cont}: ')))\n",
        "print(f'vc digitou os valores {valores}')\n",
        "print(f'o maior valor e {max(valores)} na posiçao ', end='')\n",
        "for i, v in enumerate(valores):\n",
        "    if v == max(valores):\n",
        "        print(f'{i}...', end='')\n",
        "print(f'\\no menor valor e {min(valores)} na posiçao ', end='')\n",
        "for i, v in enumerate(valores):\n",
        "    if v == min(valores):\n",
        "        print(f'{i}...', end='')"
      ],
      "metadata": {
        "id": "qLREHh203b7J",
        "colab": {
          "base_uri": "https://localhost:8080/"
        },
        "outputId": "f54c3504-cce5-4d99-8035-d35a413a03ab"
      },
      "execution_count": 21,
      "outputs": [
        {
          "output_type": "stream",
          "name": "stdout",
          "text": [
            "digite um valor para a posiçao 0: 5\n",
            "digite um valor para a posiçao 1: 3\n",
            "digite um valor para a posiçao 2: 2\n",
            "digite um valor para a posiçao 3: 1\n",
            "digite um valor para a posiçao 4: 9\n",
            "vc digitou os valores [5, 3, 2, 1, 9]\n",
            "o maior valor e 9 na posiçao 4...\n",
            "o menor valor e 1 na posiçao 3..."
          ]
        }
      ]
    }
  ],
  "metadata": {
    "colab": {
      "collapsed_sections": [],
      "name": "python-exe78",
      "provenance": []
    },
    "kernelspec": {
      "display_name": "Python 3",
      "name": "python3"
    }
  },
  "nbformat": 4,
  "nbformat_minor": 0
}