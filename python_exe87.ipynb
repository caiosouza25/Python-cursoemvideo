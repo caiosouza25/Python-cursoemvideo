{
  "nbformat": 4,
  "nbformat_minor": 0,
  "metadata": {
    "colab": {
      "name": "python-exe87",
      "provenance": [],
      "authorship_tag": "ABX9TyMiarFGPrrv4qDvs4/c5i89"
    },
    "kernelspec": {
      "name": "python3",
      "display_name": "Python 3"
    },
    "language_info": {
      "name": "python"
    }
  },
  "cells": [
    {
      "cell_type": "code",
      "execution_count": null,
      "metadata": {
        "id": "5qxCQHvtLLh4"
      },
      "outputs": [],
      "source": [
        "#aprimore o desafio 86 mostrando no final\n",
        "#[A] - a soma de todos os valores pares digitados\n",
        "#[B] - a soma dos valores da terceira coluna\n",
        "#[C] - o maior valor da segunda linha\n",
        "\n",
        "#DESAFIO 86\n",
        "lista = [[0 , 0, 0], [0, 0, 0], [0, 0, 0]]\n",
        "soma_par = 0  #add variavel pra somar\n",
        "soma_col = 0  #add variavel pra somar coluna 3\n",
        "maior = 0     #add variavel para achar o maior \n",
        "for l in range(0, 3):\n",
        "    for c in range(0, 3):\n",
        "        lista[l][c] = int(input(f'digite um numero para [{l}, {c}]: '))\n",
        "        soma_col += lista[l][2]\n",
        "        if lista[l][c] % 2 == 0:\n",
        "            soma_par += lista[l][c]\n",
        "    for c in lista[1]:\n",
        "        if c >= maior:\n",
        "            maior = c\n",
        "print('=-'*25)\n",
        "for l in range(0, 3):\n",
        "    for c in range(0, 3):\n",
        "        print(f' [{lista[l][c]}] ', end='')\n",
        "    print()\n",
        "print('=-'* 25)\n",
        "#DESAFIO 87\n",
        "print(f'a soma dos pares e {soma_par}')\n",
        "print(f'a soma da coluna 3 e {soma_col}')\n",
        "print(f'o maior numero da linha 2 foi {maior}')"
      ]
    }
  ]
}