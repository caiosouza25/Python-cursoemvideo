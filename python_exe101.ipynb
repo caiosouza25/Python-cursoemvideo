{
  "nbformat": 4,
  "nbformat_minor": 0,
  "metadata": {
    "colab": {
      "name": "python-exe101",
      "provenance": [],
      "authorship_tag": "ABX9TyOVNvLt3bjSJ9mHbcyB2dkK"
    },
    "kernelspec": {
      "name": "python3",
      "display_name": "Python 3"
    },
    "language_info": {
      "name": "python"
    }
  },
  "cells": [
    {
      "cell_type": "code",
      "execution_count": null,
      "metadata": {
        "id": "CMSGtCEaAnqI"
      },
      "outputs": [],
      "source": [
        "#Crie um app com uma função chamada voto() que vai receber como parâmetro o ano\n",
        "#de nascimento de uma pessoa, retornando um valor literal indicando se uma\n",
        "#pessoa tem voto NEGADO, OPCIONAL e OBRIGATÓRIO nas eleições.\n",
        "\n",
        "from datetime import datetime\n",
        "def voto(nasci):\n",
        "    idade = datetime.now().year - nasci\n",
        "    print(f'com {idade} anos: ', end='')\n",
        "    if idade < 18:\n",
        "        return('Nao vota')\n",
        "    if idade > 65:\n",
        "        return('Voto Opcional')\n",
        "    else:\n",
        "        return('Voto Obrigatorio')\n",
        "\n",
        "\n",
        "nome = str(input('digite seu nome: '))\n",
        "nascimento = int(input(f'ola {nome}, em que ano vc nasceu? '))\n",
        "voto(nascimento)"
      ]
    }
  ]
}