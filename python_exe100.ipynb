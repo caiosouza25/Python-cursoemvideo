{
  "nbformat": 4,
  "nbformat_minor": 0,
  "metadata": {
    "colab": {
      "name": "python-exe100",
      "provenance": [],
      "authorship_tag": "ABX9TyP568CW8Xke06YUNXTuxe0r"
    },
    "kernelspec": {
      "name": "python3",
      "display_name": "Python 3"
    },
    "language_info": {
      "name": "python"
    }
  },
  "cells": [
    {
      "cell_type": "code",
      "execution_count": null,
      "metadata": {
        "id": "Mp59ErIcEFTW"
      },
      "outputs": [],
      "source": [
        "#Faça um app que tenha uma lista chamada números e 2 funções (sorteia/somaPar)\n",
        "#a função1 vai sortear 5 números e colocar dentro da lista, a funçao2 vai\n",
        "#mostrar a soma entre todos os valores pares sorteados pela função anterior.\n",
        "\n",
        "from random import randint\n",
        "from time import sleep\n",
        "\n",
        "def sorteia(lista):\n",
        "    print('=-'* 18)\n",
        "    print('sorteando os valores da lista..')\n",
        "    for n in range(0, 5):\n",
        "        n = randint(0, 10)\n",
        "        print(f'{n}', end= ' ')\n",
        "        sleep(0.5)\n",
        "        lista.append(n)\n",
        "    print('PRONTO!')\n",
        "    print('=-'* 18)\n",
        "def somapar(lista):\n",
        "    som = 0\n",
        "    for v in lista:\n",
        "        if v % 2 == 0:\n",
        "            som += v\n",
        "    print(f'somando os pares de {lista} total = {som}')\n",
        "\n",
        "numeros = list()\n",
        "sorteia(numeros)\n",
        "somapar(numeros)"
      ]
    }
  ]
}