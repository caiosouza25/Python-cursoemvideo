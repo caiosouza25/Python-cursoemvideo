{
  "nbformat": 4,
  "nbformat_minor": 0,
  "metadata": {
    "colab": {
      "name": "python-exe89",
      "provenance": [],
      "authorship_tag": "ABX9TyNq69jchL4Bp2Wq3iUvO40K"
    },
    "kernelspec": {
      "name": "python3",
      "display_name": "Python 3"
    },
    "language_info": {
      "name": "python"
    }
  },
  "cells": [
    {
      "cell_type": "code",
      "execution_count": null,
      "metadata": {
        "id": "9woqS0AcfkNk"
      },
      "outputs": [],
      "source": [
        "#crie um programa que leia nome e 2 notas de varios alunos e guarde tudo em uma\n",
        "#lista composta. no final mostre a media de cada um e permita que o usuario\n",
        "#possa mostar as notas de cada aluno individualmente\n",
        "\n",
        "lista = []\n",
        "alunos = []\n",
        "cont = n = 0\n",
        "while True:\n",
        "    lista.append(str(input('Nome: ')))\n",
        "    lista.append(float(input('nota 1: ')))\n",
        "    lista.append(float(input('nota 2: ')))\n",
        "    cont += 1\n",
        "    alunos.append(lista[:])\n",
        "    continuar = str(input('deseja continuar [S/N]: ')).strip().upper()\n",
        "    lista.clear()\n",
        "    if continuar == 'N':\n",
        "        break\n",
        "for a in alunos:\n",
        "    n += 1\n",
        "    media = (a[1] + a[2]) / 2\n",
        "    print(f'[{n}]{a[0]} tirou media = {media:.1f}')\n",
        "print('=-'*40)\n",
        "while True:\n",
        "    c = int(input('mostrar notas de qual aluno? (999 encerra o programa): '))\n",
        "    if c == 999:\n",
        "        print('ENCERRANDO PROGRAMA!')\n",
        "        break\n",
        "    else:\n",
        "        print(f'[{c}] {alunos[c - 1]}')\n",
        "        print('=-'*25)"
      ]
    }
  ]
}