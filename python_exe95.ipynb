{
  "nbformat": 4,
  "nbformat_minor": 0,
  "metadata": {
    "colab": {
      "name": "python-exe95",
      "provenance": [],
      "authorship_tag": "ABX9TyMGeT+W/ZCqbRV//9IlZJrh"
    },
    "kernelspec": {
      "name": "python3",
      "display_name": "Python 3"
    },
    "language_info": {
      "name": "python"
    }
  },
  "cells": [
    {
      "cell_type": "code",
      "execution_count": 28,
      "metadata": {
        "id": "Zld48Y-J3buS",
        "colab": {
          "base_uri": "https://localhost:8080/",
          "height": 695
        },
        "outputId": "bce17058-9a49-4cb4-d831-19a91c5dbaf2"
      },
      "outputs": [
        {
          "output_type": "stream",
          "name": "stdout",
          "text": [
            "nome: messi\n",
            "quantas partidas messi jogou: 3\n",
            "quantos gols na 1° partida: 2\n",
            "quantos gols na 2° partida: 2\n",
            "quantos gols na 3° partida: 3\n",
            "quer continuar ?[S/N]: \n",
            "s\n",
            "nome: suarez\n",
            "quantas partidas suarez jogou: 3\n",
            "quantos gols na 1° partida: 2\n",
            "quantos gols na 2° partida: 2\n",
            "quantos gols na 3° partida: 1\n",
            "quer continuar ?[S/N]: \n",
            "s\n",
            "nome: neymar\n",
            "quantas partidas neymar jogou: 3\n",
            "quantos gols na 1° partida: 3\n",
            "quantos gols na 2° partida: 0\n",
            "quantos gols na 3° partida: 2\n",
            "quer continuar ?[S/N]: \n",
            "n\n",
            "=-=-=-=-=-=-=-=-=-=-=-=-=-=-=-=-=-=-=-=-=-=-=-=-=-\n",
            "  0 messi          [2, 2, 3]      7              \n",
            "  1 suarez         [2, 2, 1]      5              \n",
            "  2 neymar         [3, 0, 2]      5              \n",
            "=-=-=-=-=-=-=-=-=-=-=-=-=-=-=-=-=-=-=-=-=-=-=-=-=-\n",
            "qual jogador vc quer ver ? [999 encerra]: 2\n",
            "{'nome': 'neymar', 'gols': [3, 0, 2], 'total de gols': 5}\n",
            "=-=-=-=-=-=-=-=-=-=-=-=-=-=-=-=-=-=-=-=-\n",
            "qual jogador vc quer ver ? [999 encerra]: 1\n",
            "{'nome': 'suarez', 'gols': [2, 2, 1], 'total de gols': 5}\n",
            "=-=-=-=-=-=-=-=-=-=-=-=-=-=-=-=-=-=-=-=-\n",
            "qual jogador vc quer ver ? [999 encerra]: 0\n",
            "{'nome': 'messi', 'gols': [2, 2, 3], 'total de gols': 7}\n",
            "=-=-=-=-=-=-=-=-=-=-=-=-=-=-=-=-=-=-=-=-\n",
            "qual jogador vc quer ver ? [999 encerra]: 999\n",
            "ENCERRANDO!\n"
          ]
        },
        {
          "output_type": "execute_result",
          "data": {
            "text/plain": [
              "'print(f\\'{jogador[\"nome\"]} jogou {partidas} partidas\\')\\nfor j in range(partidas):\\n    print(f\\'{j + 1}° partida = {gols[j]} gols\\')\\nprint(f\\'foi um total de {soma} gols!\\')'"
            ],
            "application/vnd.google.colaboratory.intrinsic+json": {
              "type": "string"
            }
          },
          "metadata": {},
          "execution_count": 28
        }
      ],
      "source": [
        "#Aprimore o desafio 93 para que ele funcione com vários jogadores, incluindo um\n",
        "# sistema de visualização de detalhes do aproveitamento de cada jogador.\n",
        "\n",
        "jogador = {}\n",
        "time = []\n",
        "gols = []\n",
        "while True:\n",
        "    jogador.clear()\n",
        "    gols.clear()\n",
        "    jogador['nome'] = str(input('nome: '))\n",
        "    partidas = int(input(f'quantas partidas {jogador[\"nome\"]} jogou: '))\n",
        "    for p in range(0, partidas):\n",
        "        gols.append(int(input(f'quantos gols na {p + 1}° partida: ')))\n",
        "    jogador['gols'] = gols[:]\n",
        "    jogador['total de gols'] = sum(gols)\n",
        "    time.append(jogador.copy())\n",
        "    continuar = str(input(print('quer continuar ?[S/N]: '))).strip().upper()\n",
        "    if continuar == 'N':\n",
        "        break\n",
        "print('=-'* 25)\n",
        "for k, v in enumerate(time):\n",
        "    print(f'{k:>3} ',end='')\n",
        "    for d in v.values():\n",
        "        print(f'{str(d):<15}', end='')\n",
        "    print()\n",
        "print('=-'* 25)\n",
        "while True:\n",
        "    busca = int(input('qual jogador vc quer ver ? [999 encerra]: '))\n",
        "    if busca == 999:\n",
        "        print('ENCERRANDO!')\n",
        "        break\n",
        "    else:\n",
        "        print(time[busca])\n",
        "        print('=-'*20)"
      ]
    }
  ]
}