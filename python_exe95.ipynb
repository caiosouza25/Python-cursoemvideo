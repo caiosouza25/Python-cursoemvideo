{
  "nbformat": 4,
  "nbformat_minor": 0,
  "metadata": {
    "colab": {
      "name": "python-exe95",
      "provenance": [],
      "authorship_tag": "ABX9TyMGeT+W/ZCqbRV//9IlZJrh"
    },
    "kernelspec": {
      "name": "python3",
      "display_name": "Python 3"
    },
    "language_info": {
      "name": "python"
    }
  },
  "cells": [
    {
      "cell_type": "code",
      "execution_count": null,
      "metadata": {
        "id": "Zld48Y-J3buS"
      },
      "outputs": [],
      "source": [
        "#Aprimore o desafio 93 para que ele funcione com vários jogadores, incluindo um\n",
        "# sistema de visualização de detalhes do aproveitamento de cada jogador.\n",
        "\n",
        "jogador = {}\n",
        "time = []\n",
        "gols = []\n",
        "while True:\n",
        "    jogador.clear()\n",
        "    gols.clear()\n",
        "    jogador['nome'] = str(input('nome: '))\n",
        "    partidas = int(input(f'quantas partidas {jogador[\"nome\"]} jogou: '))\n",
        "    for p in range(0, partidas):\n",
        "        gols.append(int(input(f'quantos gols na {p + 1}° partida: ')))\n",
        "    jogador['gols'] = gols[:]\n",
        "    jogador['total de gols'] = sum(gols)\n",
        "    time.append(jogador.copy())\n",
        "    continuar = str(input(print('quer continuar ?[S/N]: '))).strip().upper()\n",
        "    if continuar == 'N':\n",
        "        break\n",
        "print('=-'* 25)\n",
        "for k, v in enumerate(time):\n",
        "    print(f'{k:>3} ',end='')\n",
        "    for d in v.values():\n",
        "        print(f'{str(d):<15}', end='')\n",
        "    print()\n",
        "print('=-'* 25)\n",
        "while True:\n",
        "    busca = int(input('qual jogador vc quer ver ? [999 encerra]: '))\n",
        "    if busca == 999:\n",
        "        print('ENCERRANDO!')\n",
        "        break\n",
        "    else:\n",
        "        print(time[busca])\n",
        "        print('=-'*20)"
      ]
    }
  ]
}