{
  "nbformat": 4,
  "nbformat_minor": 0,
  "metadata": {
    "colab": {
      "name": "python-exe94",
      "provenance": [],
      "authorship_tag": "ABX9TyNxf3KNo3/p68snmeY+sk+O"
    },
    "kernelspec": {
      "name": "python3",
      "display_name": "Python 3"
    },
    "language_info": {
      "name": "python"
    }
  },
  "cells": [
    {
      "cell_type": "code",
      "execution_count": null,
      "metadata": {
        "id": "9RPFC6o0T_7O"
      },
      "outputs": [],
      "source": [
        "#Crie um programa que leia nome, sexo e idade de várias pessoas, guardando os \n",
        "#dados de cada pessoa em um dicionário e todos os dicionários em uma lista. \n",
        "#No final, mostre: A) Quantas pessoas foram cadastradas, B) A média de idade,\n",
        "#C) Uma lista com as mulheres, D) Uma lista de pessoas com idade acima da média\n",
        "\n",
        "lista = []\n",
        "pessoas = {}\n",
        "contador = media = 0\n",
        "while True:\n",
        "    pessoas['nome'] =  str(input('Nome: '))\n",
        "    pessoas['idade'] = int(input('Idade: '))\n",
        "    pessoas['sexo'] = str(input('Sexo [M/F]: ')).strip().upper()[0]\n",
        "    contador += 1\n",
        "    media += pessoas['idade']\n",
        "    lista.append(pessoas.copy())\n",
        "    continuar = str(input('Deseja continuar [S/N]: ')).strip().upper()[0]\n",
        "    if continuar == 'N':\n",
        "        break\n",
        "media = media / contador\n",
        "print(f'foram cadastradas {contador} pessoas')\n",
        "print('-='*20)\n",
        "print(f'a media de idade e = {media:.1f}')\n",
        "print('=-'*20)\n",
        "print('essas foram as mulheres: ', end='')\n",
        "for p in lista:\n",
        "    if p['sexo'] in 'Ff':\n",
        "        print(f'{p[\"nome\"]}', end=' ')\n",
        "print()\n",
        "print('=-'*20)\n",
        "print('pessoas com idade acima da media: ',)\n",
        "for p in lista:\n",
        "    if p['idade'] > media:\n",
        "        print(f'{p}')\n"
      ]
    }
  ]
}