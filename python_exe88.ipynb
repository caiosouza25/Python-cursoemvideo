{
  "cells": [
    {
      "cell_type": "code",
      "source": [
        "# crie um programa que ajude um jogador da mega sena a criar palpites\n",
        "# o programa vai perguntar quantos jogos serao gerados e vai sortear 6 numeros\n",
        "# entre 1 e 60 para cada jogo, cadastrando tudo em uma lista\n",
        "\n",
        "from random import sample\n",
        "from time import sleep\n",
        "jogos = []\n",
        "n = int(input('Quantos jogos?: '))\n",
        "for c in range(n):\n",
        "    a = sorted(sample(range(1, 61), 6))\n",
        "    jogos.append(a[:])\n",
        "    print(f'Jogo {c+1}: {a}')\n",
        "    sleep(0.5)"
      ],
      "metadata": {
        "colab": {
          "base_uri": "https://localhost:8080/"
        },
        "id": "2lv5R5oXYrvS",
        "outputId": "56b2a35f-05cd-49df-c302-821f3d81eebf"
      },
      "execution_count": 11,
      "outputs": [
        {
          "output_type": "stream",
          "name": "stdout",
          "text": [
            "Quantos jogos?: 5\n",
            "Jogo 1: [3, 12, 19, 20, 33, 36]\n",
            "Jogo 2: [1, 8, 19, 26, 33, 37]\n",
            "Jogo 3: [20, 21, 31, 35, 40, 59]\n",
            "Jogo 4: [2, 4, 9, 26, 33, 45]\n",
            "Jogo 5: [6, 14, 20, 27, 34, 35]\n"
          ]
        }
      ]
    }
  ],
  "metadata": {
    "colab": {
      "collapsed_sections": [],
      "name": "python-exe88",
      "provenance": []
    },
    "kernelspec": {
      "display_name": "Python 3",
      "name": "python3"
    }
  },
  "nbformat": 4,
  "nbformat_minor": 0
}