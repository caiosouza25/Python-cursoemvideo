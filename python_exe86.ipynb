{
  "cells": [
    {
      "cell_type": "code",
      "source": [
        "#crie um programa que crie uma matriz de dimensao de 3x3\n",
        "#e preencha os valores com o teclado\n",
        "\n",
        "lista = [[0 , 0, 0], [0, 0, 0], [0, 0, 0]]\n",
        "for l in range(0, 3):\n",
        "    for c in range(0, 3):\n",
        "        lista[l][c] = int(input(f'digite um numero para [{l}, {c}]: '))\n",
        "print('=-'*25)\n",
        "for l in range(0, 3):\n",
        "    for c in range(0, 3):\n",
        "        print(f' [{lista[l][c]}] ', end='')\n",
        "    print()"
      ],
      "metadata": {
        "id": "az1YoN3Y99fo"
      },
      "execution_count": null,
      "outputs": []
    }
  ],
  "metadata": {
    "colab": {
      "collapsed_sections": [],
      "name": "python-exe86",
      "provenance": []
    },
    "kernelspec": {
      "display_name": "Python 3",
      "name": "python3"
    }
  },
  "nbformat": 4,
  "nbformat_minor": 0
}