{
  "nbformat": 4,
  "nbformat_minor": 0,
  "metadata": {
    "colab": {
      "name": "python-exe105",
      "provenance": [],
      "authorship_tag": "ABX9TyMHnJ7rALhGJrVoTvQKF8Eh"
    },
    "kernelspec": {
      "name": "python3",
      "display_name": "Python 3"
    },
    "language_info": {
      "name": "python"
    }
  },
  "cells": [
    {
      "cell_type": "code",
      "execution_count": null,
      "metadata": {
        "id": "cw0bPfD6Cpfd"
      },
      "outputs": [],
      "source": [
        "#Faça um app com uma função notas que pode receber várias notas de alunos e vai \n",
        "#retornar um dicionário com as seguintes informações:\n",
        "#Quantidade de notas\n",
        "#maior nota\n",
        "#menor nota\n",
        "#média da turma\n",
        "#situação (opcional)\n",
        "#adicione também as docstrings dessa função para consulta pelo desenvolvedor.\n",
        "\n",
        "def notas(*n, sit=False):\n",
        "    \"\"\"\n",
        "    funçao para analisar notas e situaçoes de varios alunos.\n",
        "    :param n: aceita varias notas\n",
        "    :param sit:(opcional) indicando se deve ou nao mostrar a situaçao\n",
        "    :return: dicionario com varias informaçoes do aluno\n",
        "    \"\"\"\n",
        "    r = dict()\n",
        "    r['total'] = len(n)\n",
        "    r['maior'] = max(n)\n",
        "    r['menor'] = min(n)\n",
        "    r['media'] = sum(n) / len(n)\n",
        "    if sit:\n",
        "        if r['media'] >= 7:\n",
        "            r['Situaçao'] = 'Boa'\n",
        "        elif 6 > r['media'] >= 5:\n",
        "            r['Situaçao'] = 'Razoavel'\n",
        "        else:\n",
        "            r['Situaçao'] = 'Ruim'\n",
        "    return r\n",
        "aluno = (notas(9, 5, 8))\n",
        "print(aluno)\n",
        "help(notas)"
      ]
    }
  ]
}