{
  "cells": [
    {
      "cell_type": "code",
      "source": [
        "#crie um programa que vai ler varios numeros e colocar em uma lista\n",
        "# [A] - quantos numeros foram digitados\n",
        "# [B] - a lista de valores ordenada de forma decrescente\n",
        "# [C] - se o valor 5 foi digitado e esta ou nao na lista\n",
        "\n",
        "valores = []\n",
        "cont = 0\n",
        "while True:\n",
        "    valores.append(int(input('digite um valor: ')))\n",
        "    cont += 1\n",
        "    usu = str(input('quer continuar [S/N]: ')).strip().upper()\n",
        "    valores.sort(reverse=True)\n",
        "    if usu == 'N':\n",
        "        break\n",
        "print(f'foram digitados {cont} numeros')\n",
        "print(f'a lista em ordem decrescente = {valores}')\n",
        "if 5 in valores: print('o 5 esta na lista') \n",
        "else: print('o 5 nao esta na lista')"
      ],
      "metadata": {
        "id": "iXyQrg6ULr6w"
      },
      "execution_count": null,
      "outputs": []
    }
  ],
  "metadata": {
    "colab": {
      "collapsed_sections": [],
      "name": "python-exe81",
      "provenance": []
    },
    "kernelspec": {
      "display_name": "Python 3",
      "name": "python3"
    }
  },
  "nbformat": 4,
  "nbformat_minor": 0
}