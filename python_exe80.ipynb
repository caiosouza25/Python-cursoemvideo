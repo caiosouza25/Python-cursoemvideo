{
  "cells": [
    {
      "cell_type": "markdown",
      "metadata": {
        "id": "view-in-github",
        "colab_type": "text"
      },
      "source": [
        "<a href=\"https://colab.research.google.com/github/caiosouza25/Python-cursoemvideo/blob/python-mundo-3/python_exe80.ipynb\" target=\"_parent\"><img src=\"https://colab.research.google.com/assets/colab-badge.svg\" alt=\"Open In Colab\"/></a>"
      ]
    },
    {
      "cell_type": "code",
      "source": [
        "#crie um programa onde o usuario possa digitar 5 valores numericos\n",
        "#cadastre-os em uma lista ja na posiçao correnta de inserçao (sem usar sort())\n",
        "#no final mostre a lista ordenada na tela\n",
        "\n",
        "valores = []\n",
        "for v in range(0, 5):\n",
        "    num = int(input('digite um valor: '))\n",
        "    if v == 0 or num > valores[- 1]:\n",
        "        valores.append(num)\n",
        "    else:\n",
        "        posiçao = 0\n",
        "        while posiçao < len(valores):\n",
        "            if num <= valores[posiçao]:\n",
        "                valores.insert(posiçao, num)\n",
        "                break\n",
        "            posiçao +=1\n",
        "print(f'os valores digitados em ordem crescente foram: {valores}')"
      ],
      "metadata": {
        "id": "cmU0qqgG4uXM",
        "outputId": "f95cc7d9-32e9-4944-e891-92c6979d50bf",
        "colab": {
          "base_uri": "https://localhost:8080/"
        }
      },
      "execution_count": null,
      "outputs": [
        {
          "output_type": "stream",
          "name": "stdout",
          "text": [
            "digite um valor: 8\n",
            "digite um valor: 9\n",
            "digite um valor: 5\n",
            "digite um valor: 7\n",
            "digite um valor: 2\n",
            "os valores digitados em ordem crescente foram: [2, 5, 7, 8, 9]\n"
          ]
        }
      ]
    }
  ],
  "metadata": {
    "colab": {
      "collapsed_sections": [],
      "name": "python-exe80",
      "provenance": [],
      "include_colab_link": true
    },
    "kernelspec": {
      "display_name": "Python 3",
      "name": "python3"
    }
  },
  "nbformat": 4,
  "nbformat_minor": 0
}