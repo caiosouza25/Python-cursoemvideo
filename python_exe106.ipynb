{
  "nbformat": 4,
  "nbformat_minor": 0,
  "metadata": {
    "colab": {
      "name": "python-exe106",
      "provenance": [],
      "authorship_tag": "ABX9TyNCMg3ixr/enyi2QLdhuOoS"
    },
    "kernelspec": {
      "name": "python3",
      "display_name": "Python 3"
    },
    "language_info": {
      "name": "python"
    }
  },
  "cells": [
    {
      "cell_type": "code",
      "execution_count": null,
      "metadata": {
        "id": "0MM1DG4XQVDw"
      },
      "outputs": [],
      "source": [
        "#Faça um mini-sistema que utilize o Interactive Help do Python. O usuário vai\n",
        "#digitar o comando e o manual vai aparecer Quando o usuário digitar a\n",
        "#palavra 'FIM', o programa se encerrará. Importante: use cores\n",
        "\n",
        "from time import sleep\n",
        "\n",
        "c = ('\\033[m',     # 0 sem cores\n",
        "     '\\033[44m',   # 1 fundo azul\n",
        "     '\\033[42m',   # 2 fundo verde\n",
        "     '\\033[47m',   # 3 fundo cinza\n",
        "     '\\033[40m'    # 4 fundo preto\n",
        "    )\n",
        "\n",
        "\n",
        "def info(comando):\n",
        "    texto(f'acessando as informaçoes do comando \\'{comando}\\'', 2)\n",
        "    sleep(1.5)\n",
        "    print(c[4], end='')\n",
        "    help(comando)\n",
        "    print(c[0], end='')\n",
        "\n",
        "\n",
        "def texto(msg, cor=0):\n",
        "    tamanho = len(msg)\n",
        "    print(c[cor], end='')\n",
        "    print('~' * tamanho)\n",
        "    print(f'{msg}')\n",
        "    print('~' * tamanho)\n",
        "    print(c[0], end='')\n",
        "\n",
        "\n",
        "comando = ''\n",
        "while True:\n",
        "    texto('SISTEMA DE AJUDA PYHELP!', 1)\n",
        "    comando = str(input('digite a funçao ou biblioteca [\"fim\" encerra o programa]: '))\n",
        "    if comando.upper() == 'FIM':\n",
        "        break\n",
        "    else:\n",
        "        info(comando)\n",
        "texto('ENCERRANDO PROGRAMA...', 3)\n",
        "sleep(1)"
      ]
    }
  ]
}