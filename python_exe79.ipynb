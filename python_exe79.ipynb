{
  "nbformat": 4,
  "nbformat_minor": 0,
  "metadata": {
    "colab": {
      "name": "python-exe79",
      "provenance": [],
      "authorship_tag": "ABX9TyOzvOZzE0HaB0kLmrRY3pFP",
      "include_colab_link": true
    },
    "kernelspec": {
      "name": "python3",
      "display_name": "Python 3"
    },
    "language_info": {
      "name": "python"
    }
  },
  "cells": [
    {
      "cell_type": "markdown",
      "metadata": {
        "id": "view-in-github",
        "colab_type": "text"
      },
      "source": [
        "<a href=\"https://colab.research.google.com/github/caiosouza25/Python-cursoemvideo/blob/python-mundo-3/python_exe79.ipynb\" target=\"_parent\"><img src=\"https://colab.research.google.com/assets/colab-badge.svg\" alt=\"Open In Colab\"/></a>"
      ]
    },
    {
      "cell_type": "code",
      "execution_count": 18,
      "metadata": {
        "colab": {
          "base_uri": "https://localhost:8080/"
        },
        "id": "lIqidjAjBtiv",
        "outputId": "805a8b9d-5bb4-4e64-bae2-813d363aad22"
      },
      "outputs": [
        {
          "name": "stdout",
          "output_type": "stream",
          "text": [
            "digite um valor: 7\n",
            "valor adicionado com sucesso\n",
            "deseja continuar [S/N]: s\n",
            "digite um valor: 9\n",
            "valor adicionado com sucesso\n",
            "deseja continuar [S/N]: s\n",
            "digite um valor: 8\n",
            "valor adicionado com sucesso\n",
            "deseja continuar [S/N]: s\n",
            "digite um valor: 9\n",
            "esse valor ja foi adicionado\n",
            "deseja continuar [S/N]: n\n"
          ]
        },
        {
          "output_type": "execute_result",
          "data": {
            "text/plain": [
              "[7, 8, 9]"
            ]
          },
          "metadata": {},
          "execution_count": 18
        }
      ],
      "source": [
        "#crie um programa onde o usuario digite varios valores numericos\n",
        "#cadastre-os em uma lista, caso o numero ja exista ele nao sera adicionado\n",
        "#no final serao exibidos todos os valores em ordem crescente\n",
        "\n",
        "lista = []\n",
        "cont = ''\n",
        "while True:\n",
        "        n = (int(input('digite um valor: ')))\n",
        "        if n not in lista:\n",
        "            lista.append(n)\n",
        "            print('valor adicionado com sucesso')\n",
        "        else:\n",
        "            print('esse valor ja foi adicionado')\n",
        "        cont = str(input('deseja continuar [S/N]: ')).strip().upper()\n",
        "        if cont == 'N':\n",
        "            break\n",
        "sorted(lista)"
      ]
    }
  ]
}