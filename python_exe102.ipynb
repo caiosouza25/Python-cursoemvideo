{
  "nbformat": 4,
  "nbformat_minor": 0,
  "metadata": {
    "colab": {
      "name": "python-exe102",
      "provenance": [],
      "authorship_tag": "ABX9TyOiyUZpYjfucCxjiXnjrCTH"
    },
    "kernelspec": {
      "name": "python3",
      "display_name": "Python 3"
    },
    "language_info": {
      "name": "python"
    }
  },
  "cells": [
    {
      "cell_type": "code",
      "execution_count": null,
      "metadata": {
        "id": "JUP3VpWbIGKq"
      },
      "outputs": [],
      "source": [
        "#Crie um programa que tenha uma função fatorial() que receba dois parâmetros: o \n",
        "#primeiro que indique o número a calcular e outro chamado show, que será um\n",
        "#valor lógico (opcional) indicando se será mostrado ou não na tela o processo\n",
        "#de cálculo do fatorial.\n",
        "\n",
        "def fatorial(n, show=False):\n",
        "    \"\"\"\n",
        "    calcule o fatorial de um numero.\n",
        "    :param f: Número a ser calculado.\n",
        "    :param show:(opcional) mostrar ou nao a conta\n",
        "    :return Retorna o fatiorial de um número n\n",
        "    \"\"\"\n",
        "    f = 1\n",
        "    for c in range(n, 0, -1):\n",
        "        if show:\n",
        "            print(c, end='')\n",
        "            if c > 1:\n",
        "                print(' x ',end='')\n",
        "            else:\n",
        "                print(' = ', end='')\n",
        "        f *= c\n",
        "    return f\n",
        "\n",
        "\n",
        "fatorial(5,show=True)\n",
        "help(fatorial)"
      ]
    }
  ]
}