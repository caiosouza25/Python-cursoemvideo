{
  "nbformat": 4,
  "nbformat_minor": 0,
  "metadata": {
    "colab": {
      "name": "python-exe99",
      "provenance": [],
      "authorship_tag": "ABX9TyPbL/8+Tnp4582MEguzmdd8"
    },
    "kernelspec": {
      "name": "python3",
      "display_name": "Python 3"
    },
    "language_info": {
      "name": "python"
    }
  },
  "cells": [
    {
      "cell_type": "code",
      "execution_count": null,
      "metadata": {
        "id": "i51Re3Py7sec"
      },
      "outputs": [],
      "source": [
        "#Faça um app que tenha uma função chamada maior(), que receba vários parâmetros \n",
        "#com valores inteiros. Seu app vai analisar os valores e dizer qual é o maior.\n",
        "\n",
        "from time import sleep\n",
        "def linha():\n",
        "    print('=-'* 25)\n",
        "def maior(* num):\n",
        "    linha()\n",
        "    print('analisando valores...')\n",
        "    sleep(1)\n",
        "    print(f'{num}', end=' ')\n",
        "    print(f'foram informados {len(num)} valores')\n",
        "    print(f'o maior valor foi {max(num)}')\n",
        "    linha()\n",
        "\n",
        "maior(8, 2, 1, 6, 5,)\n",
        "maior(2, 5,)\n",
        "maior(3, 5, 4)"
      ]
    }
  ]
}