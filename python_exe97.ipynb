{
  "nbformat": 4,
  "nbformat_minor": 0,
  "metadata": {
    "colab": {
      "name": "python-exe97",
      "provenance": [],
      "authorship_tag": "ABX9TyN7Gp/8mCPiT9wYPr0YITrb"
    },
    "kernelspec": {
      "name": "python3",
      "display_name": "Python 3"
    },
    "language_info": {
      "name": "python"
    }
  },
  "cells": [
    {
      "cell_type": "code",
      "execution_count": 8,
      "metadata": {
        "colab": {
          "base_uri": "https://localhost:8080/"
        },
        "id": "3-yjj8SOso2R",
        "outputId": "61f97aeb-bff2-445f-a9d2-1b7109f82f14"
      },
      "outputs": [
        {
          "output_type": "stream",
          "name": "stdout",
          "text": [
            "--------------\n",
            "curso em video\n",
            "--------------\n"
          ]
        }
      ],
      "source": [
        "#Faça um programa que tenha uma função chamada escreva(), que receba um texto\n",
        "#qualquer como parâmetro e mostre uma mensagem com tamanho adaptável\n",
        "\n",
        "def escreva(msg):\n",
        "    print('-'*len(msg))\n",
        "    print(msg)\n",
        "    print('-'*len(msg))\n",
        "\n",
        "\n",
        "escreva('curso em video')"
      ]
    }
  ]
}