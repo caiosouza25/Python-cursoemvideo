{
  "nbformat": 4,
  "nbformat_minor": 0,
  "metadata": {
    "colab": {
      "name": "python-exe91",
      "provenance": [],
      "authorship_tag": "ABX9TyOkq61lrHEHRlT/otVtt8BI"
    },
    "kernelspec": {
      "name": "python3",
      "display_name": "Python 3"
    },
    "language_info": {
      "name": "python"
    }
  },
  "cells": [
    {
      "cell_type": "code",
      "execution_count": null,
      "metadata": {
        "id": "SXBmsSbOr4P7"
      },
      "outputs": [],
      "source": [
        "#crie um programa onde 4 jogadores jogam um dado e tenham resultados aleatorios\n",
        "#guarde esses resultados em um dicionario, no final coloque esse resultado em\n",
        "#ordem, sabendo que o vencedor tirou o maior numero no dado\n",
        "\n",
        "from random import randint\n",
        "from time import sleep\n",
        "from operator import itemgetter\n",
        "jogadores = {'jogador1': randint(1,6),\n",
        "             'jogador2': randint(1,6),\n",
        "             'jogador3': randint(1,6),\n",
        "             'jogador4': randint(1,6)}\n",
        "ranking = []\n",
        "for k, v, in jogadores.items():\n",
        "    print(f'{k} tirou {v}')\n",
        "    sleep(1)\n",
        "ranking = sorted(jogadores.items(), key=itemgetter(1), reverse=True)\n",
        "print('-='*15)\n",
        "print('RANKING DE JOGADORES!')\n",
        "print('-='*15)\n",
        "for i, v in enumerate(ranking):\n",
        "    print(f'{i + 1}° lugar: {v[0]} com {v[1]}')\n",
        "    sleep(1)\n"
      ]
    }
  ]
}