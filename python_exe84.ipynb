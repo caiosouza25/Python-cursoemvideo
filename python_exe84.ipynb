{
  "cells": [
    {
      "cell_type": "code",
      "source": [
        "#leia o nome e peso de varias pessoas e guarde em uma lista no final mostre\n",
        "# [A] - quantas pessoas foram cadastradas\n",
        "# [B] - uma listagem com as pessoas mais pesadas\n",
        "# [C] - uma listagem com as pessoas mais leves\n",
        "\n",
        "pessoas = []\n",
        "princ = []\n",
        "leve = pesado = 0\n",
        "contador = 0\n",
        "while True:\n",
        "    pessoas.append(str(input('digite seu nome: ')))\n",
        "    pessoas.append(float(input('digite seu peso: ')))\n",
        "    if len(princ) == 0:\n",
        "        pesado = leve = pessoas[1]\n",
        "    else:\n",
        "        if pessoas[1] > pesado:\n",
        "            pesado = pessoas[1]\n",
        "        if pessoas[1] < leve:\n",
        "            leve = pessoas[1]\n",
        "    princ.append(pessoas[:])\n",
        "    pessoas.clear()\n",
        "    contador += 1\n",
        "    continuar = str(input('deseja continuar [S/N]: ')).strip().upper()\n",
        "    if continuar == 'N':\n",
        "        break\n",
        "print(f'foram cadastradas {contador} pessoas')\n",
        "print(f'o maior peso foi {pesado}kg')\n",
        "for p in princ:\n",
        "    if p[1] == pesado:\n",
        "        print(f'{p[0]}')\n",
        "print(f'o menor peso foi {leve}kg')\n",
        "for p in princ:\n",
        "    if p[1] == leve:\n",
        "        print(f'{p[0]}')\n"
      ],
      "metadata": {
        "id": "2bd_jJg7-TI4"
      },
      "execution_count": null,
      "outputs": []
    }
  ],
  "metadata": {
    "colab": {
      "collapsed_sections": [],
      "name": "python-exe84",
      "provenance": []
    },
    "kernelspec": {
      "display_name": "Python 3",
      "name": "python3"
    }
  },
  "nbformat": 4,
  "nbformat_minor": 0
}