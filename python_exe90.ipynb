{
  "nbformat": 4,
  "nbformat_minor": 0,
  "metadata": {
    "colab": {
      "name": "python-exe90",
      "provenance": [],
      "authorship_tag": "ABX9TyOZ327613HldgnvrNcSMxwS"
    },
    "kernelspec": {
      "name": "python3",
      "display_name": "Python 3"
    },
    "language_info": {
      "name": "python"
    }
  },
  "cells": [
    {
      "cell_type": "code",
      "execution_count": 9,
      "metadata": {
        "colab": {
          "base_uri": "https://localhost:8080/"
        },
        "id": "-l2qMJ-Ckp1g",
        "outputId": "2816344f-f342-49b5-cf32-12380095cab0"
      },
      "outputs": [
        {
          "output_type": "stream",
          "name": "stdout",
          "text": [
            "digite o nome do aluno: caio\n",
            "qual a media: 5.2\n",
            "o aluno se chama caio\n",
            "sua media e 5.2\n",
            "caio foi reprovado!\n"
          ]
        }
      ],
      "source": [
        "#faça um programa que leia o nome e a media de um aluno guardando tambem\n",
        "# a situaçao em um dicionario. no final mostre o conteudo da estrutura na tela\n",
        "\n",
        "aluno = {}\n",
        "aluno['nome'] = str(input('digite o nome do aluno: '))\n",
        "aluno['media'] = float(input(f'qual a media: '))\n",
        "print(f'o aluno se chama {aluno[\"nome\"]}')\n",
        "print(f'sua media e {aluno[\"media\"]}')\n",
        "if aluno['media'] >= 7:\n",
        "    print(f'{aluno[\"nome\"]} foi aprovado!')\n",
        "else:\n",
        "    print(f'{aluno[\"nome\"]} foi reprovado!')"
      ]
    }
  ]
}