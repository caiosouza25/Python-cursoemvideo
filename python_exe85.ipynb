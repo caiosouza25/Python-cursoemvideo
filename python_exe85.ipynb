{
  "cells": [
    {
      "cell_type": "code",
      "source": [
        "#usuario ira digitar 7 valores e serao cadastrados em uma lista unica que\n",
        "#mantenha separados os valores pares e impares\n",
        "#no final mostre os valores pares e impares e ordem crescente\n",
        "lista = [[], []]\n",
        "n = 0\n",
        "for v in range(1, 8):\n",
        "        n = int(input(f'digite o {v}° valor: '))\n",
        "        if n % 2 == 0:\n",
        "            lista[0].append(n)\n",
        "        else:\n",
        "            lista[1].append(n)\n",
        "lista[0].sort()\n",
        "lista[1].sort()\n",
        "print(f'os valores pares sao: {lista[0]}')\n",
        "print(f'os valores impares sao: {lista[1]}')"
      ],
      "metadata": {
        "colab": {
          "base_uri": "https://localhost:8080/"
        },
        "id": "_sx2S0XamZG7",
        "outputId": "1979800c-b06b-4a18-9956-290444e956ca"
      },
      "execution_count": 12,
      "outputs": [
        {
          "output_type": "stream",
          "name": "stdout",
          "text": [
            "digite o 1° valor: 3\n",
            "digite o 2° valor: 9\n",
            "digite o 3° valor: 8\n",
            "digite o 4° valor: 4\n",
            "digite o 5° valor: 6\n",
            "digite o 6° valor: 5\n",
            "digite o 7° valor: 2\n",
            "os valores pares sao: [2, 4, 6, 8]\n",
            "os valores impares sao: [3, 5, 9]\n"
          ]
        }
      ]
    }
  ],
  "metadata": {
    "colab": {
      "collapsed_sections": [],
      "name": "python-exe85",
      "provenance": []
    },
    "kernelspec": {
      "display_name": "Python 3",
      "name": "python3"
    }
  },
  "nbformat": 4,
  "nbformat_minor": 0
}