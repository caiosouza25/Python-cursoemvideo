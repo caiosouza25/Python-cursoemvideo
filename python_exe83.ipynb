{
  "nbformat": 4,
  "nbformat_minor": 0,
  "metadata": {
    "colab": {
      "name": "python-exe83",
      "provenance": [],
      "authorship_tag": "ABX9TyOUfOF2ywFMjprfEW1EDpCz"
    },
    "kernelspec": {
      "name": "python3",
      "display_name": "Python 3"
    },
    "language_info": {
      "name": "python"
    }
  },
  "cells": [
    {
      "cell_type": "code",
      "execution_count": null,
      "metadata": {
        "id": "u0692mcpY25X"
      },
      "outputs": [],
      "source": [
        "#crie um programa onde o usurio digite um expressao qualquer usando parenteses\n",
        "#analise se a espressao esta com parenteses abertos e fechados corretamente\n",
        "\n",
        "expre = str(input('digite uma expressao: '))\n",
        "cont = 0\n",
        "for c in expre:\n",
        "    if c == '(':\n",
        "        cont += 1\n",
        "    if c == ')':\n",
        "        cont -= 1\n",
        "    if cont == 0:\n",
        "        break\n",
        "if cont == 0:\n",
        "    print('sua expressao é valida')\n",
        "else:\n",
        "    print('sua expressao nao e valida')"
      ]
    }
  ]
}