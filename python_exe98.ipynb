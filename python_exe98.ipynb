{
  "nbformat": 4,
  "nbformat_minor": 0,
  "metadata": {
    "colab": {
      "name": "python-exe98",
      "provenance": [],
      "authorship_tag": "ABX9TyMJDBjfZywsQAvwdVWIaU42"
    },
    "kernelspec": {
      "name": "python3",
      "display_name": "Python 3"
    },
    "language_info": {
      "name": "python"
    }
  },
  "cells": [
    {
      "cell_type": "code",
      "execution_count": null,
      "metadata": {
        "id": "jc9SkKKevEvO"
      },
      "outputs": [],
      "source": [
        "#Faça um app que tenha uma função chamada contador(), que receba 3 parâmetros:\n",
        "#início/fim/passo. o app tem que realizar 3 contagens através da função criada:\n",
        "#a) de 1 até 10, de 1 em 1\n",
        "#b) de 10 até 0, de 2 em 2\n",
        "#c) uma contagem personalizada\n",
        "\n",
        "from time import sleep\n",
        "def linha():\n",
        "    print('=-'* 20)\n",
        "def contador(i, f, p):\n",
        "    if p < 0:\n",
        "        p *= -1\n",
        "    if p == 0:\n",
        "        p = 1\n",
        "    print(f'contagem de {i} ate {f} (de {p} em {p})')\n",
        "    if i < f:\n",
        "        cont = i\n",
        "        while cont <= f:\n",
        "            print(f'{cont}', end=' ')\n",
        "            cont += p\n",
        "            sleep(0.5)\n",
        "        print('FIM!')\n",
        "        linha()\n",
        "    else:\n",
        "        cont = i\n",
        "        while cont >= f:\n",
        "            print(f'{cont}', end=' ')\n",
        "            cont = cont - p\n",
        "            sleep(0.5)\n",
        "        print('FIM!')\n",
        "        linha()\n",
        "\n",
        "\n",
        "contador(1, 10, 1)\n",
        "sleep(1)\n",
        "contador(10, 0, 2)\n",
        "print('chegou sua vez de personalizar a contagem:')\n",
        "ini = int(input('inicio: '))\n",
        "fim = int(input('fim: '))\n",
        "pas = int(input('passo: '))\n",
        "linha()\n",
        "contador(ini, fim, pas)"
      ]
    }
  ]
}