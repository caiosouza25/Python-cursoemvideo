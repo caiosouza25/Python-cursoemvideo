{
  "cells": [
    {
      "cell_type": "markdown",
      "metadata": {
        "id": "view-in-github",
        "colab_type": "text"
      },
      "source": [
        "<a href=\"https://colab.research.google.com/github/caiosouza25/Python-cursoemvideo/blob/main/pythonexe77.ipynb\" target=\"_parent\"><img src=\"https://colab.research.google.com/assets/colab-badge.svg\" alt=\"Open In Colab\"/></a>"
      ]
    },
    {
      "cell_type": "code",
      "source": [
        "#crie um programa que tenha uma tupla com varias palavras (nao usar acentos)\n",
        "#depois disso vc deve mostrar para cada palavras, quais sao suas vogais.\n",
        "\n",
        "\n",
        "lista = ('aprender', 'programar', 'curso', 'video', 'python',\n",
        "         'computador', 'internet', 'google')\n",
        "for p in lista:\n",
        "  print(f'\\nna palavra {p.upper()} temos ', end=' ')\n",
        "  for letra in p:\n",
        "    if letra.lower() in 'aeiou':\n",
        "      print(letra, end=' ')"
      ],
      "metadata": {
        "id": "LojEr3K_WEqv"
      },
      "execution_count": null,
      "outputs": []
    }
  ],
  "metadata": {
    "colab": {
      "collapsed_sections": [],
      "name": "pythonexe77",
      "provenance": [],
      "include_colab_link": true
    },
    "kernelspec": {
      "display_name": "Python 3",
      "name": "python3"
    }
  },
  "nbformat": 4,
  "nbformat_minor": 0
}
