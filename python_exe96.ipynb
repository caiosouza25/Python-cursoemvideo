{
  "nbformat": 4,
  "nbformat_minor": 0,
  "metadata": {
    "colab": {
      "name": "python-exe96",
      "provenance": [],
      "authorship_tag": "ABX9TyNp64m1F8GUpPZb+G19L4lo"
    },
    "kernelspec": {
      "name": "python3",
      "display_name": "Python 3"
    },
    "language_info": {
      "name": "python"
    }
  },
  "cells": [
    {
      "cell_type": "code",
      "execution_count": 2,
      "metadata": {
        "colab": {
          "base_uri": "https://localhost:8080/"
        },
        "id": "120Uo_gzhJBQ",
        "outputId": "a770afe3-6fd2-4171-8958-74f371e025c7"
      },
      "outputs": [
        {
          "output_type": "stream",
          "name": "stdout",
          "text": [
            "largura(m): 4.7\n",
            "comprimento(m): 25\n",
            "a area de um terreno 4.7x25.0 e de 117.5m²\n"
          ]
        }
      ],
      "source": [
        "#Faça um programa que tenha uma função chamada área(), que receba as dimensões\n",
        "#de um terreno retangular (largura e comprimento) e mostre a área do terreno.\n",
        "\n",
        "def area(a, b):\n",
        "    total = a * b\n",
        "    print(f'a area de um terreno {a}x{b} e de {total}m²')\n",
        "\n",
        "largura = float(input('largura(m): '))\n",
        "comprimento = float(input('comprimento(m): '))\n",
        "area(largura, comprimento)"
      ]
    }
  ]
}